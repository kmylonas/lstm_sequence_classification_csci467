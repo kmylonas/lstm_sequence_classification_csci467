{
  "nbformat": 4,
  "nbformat_minor": 0,
  "metadata": {
    "colab": {
      "provenance": [],
      "gpuType": "T4"
    },
    "kernelspec": {
      "name": "python3",
      "display_name": "Python 3"
    },
    "language_info": {
      "name": "python"
    },
    "accelerator": "GPU"
  },
  "cells": [
    {
      "cell_type": "code",
      "source": [
        "!python3 --version"
      ],
      "metadata": {
        "colab": {
          "base_uri": "https://localhost:8080/"
        },
        "id": "-s8JKCc5XZAp",
        "outputId": "3ca2fad6-0272-4ee6-f909-712c7296925c"
      },
      "execution_count": 4,
      "outputs": [
        {
          "output_type": "stream",
          "name": "stdout",
          "text": [
            "Python 3.10.12\n"
          ]
        }
      ]
    },
    {
      "cell_type": "code",
      "execution_count": 2,
      "metadata": {
        "colab": {
          "base_uri": "https://localhost:8080/"
        },
        "id": "pbcnZLeTTJ4y",
        "outputId": "3ff63b1b-592c-438d-d6d8-dcb8dac52935"
      },
      "outputs": [
        {
          "output_type": "stream",
          "name": "stdout",
          "text": [
            "Done with encodings\n"
          ]
        },
        {
          "output_type": "stream",
          "name": "stderr",
          "text": [
            "Some weights of DistilBertForSequenceClassification were not initialized from the model checkpoint at distilbert-base-uncased and are newly initialized: ['classifier.bias', 'pre_classifier.weight', 'pre_classifier.bias', 'classifier.weight']\n",
            "You should probably TRAIN this model on a down-stream task to be able to use it for predictions and inference.\n",
            "/usr/local/lib/python3.10/dist-packages/transformers/optimization.py:411: FutureWarning: This implementation of AdamW is deprecated and will be removed in a future version. Use the PyTorch implementation torch.optim.AdamW instead, or set `no_deprecation_warning=True` to disable this warning\n",
            "  warnings.warn(\n",
            "Epoch train: 0: 100%|██████████| 782/782 [12:39<00:00,  1.03it/s]\n"
          ]
        },
        {
          "output_type": "stream",
          "name": "stdout",
          "text": [
            "Time for epoch: 760.11\n"
          ]
        },
        {
          "output_type": "stream",
          "name": "stderr",
          "text": [
            "Epoch dev: 0: 100%|██████████| 157/157 [00:40<00:00,  3.92it/s]\n"
          ]
        },
        {
          "output_type": "stream",
          "name": "stdout",
          "text": [
            "epoch: 0, train_acc=0.90580 dev_acc=0.94085 train_f1=0.87917 dev_f1=0.92022 loss: 174.29707\n"
          ]
        },
        {
          "output_type": "stream",
          "name": "stderr",
          "text": [
            "Epoch train: 1: 100%|██████████| 782/782 [12:27<00:00,  1.05it/s]\n"
          ]
        },
        {
          "output_type": "stream",
          "name": "stdout",
          "text": [
            "Time for epoch: 748.03\n"
          ]
        },
        {
          "output_type": "stream",
          "name": "stderr",
          "text": [
            "Epoch dev: 1: 100%|██████████| 157/157 [00:40<00:00,  3.91it/s]\n"
          ]
        },
        {
          "output_type": "stream",
          "name": "stdout",
          "text": [
            "epoch: 1, train_acc=0.94261 dev_acc=0.94195 train_f1=0.92027 dev_f1=0.92362 loss: 71.60219\n"
          ]
        },
        {
          "output_type": "stream",
          "name": "stderr",
          "text": [
            "Epoch train: 2: 100%|██████████| 782/782 [12:28<00:00,  1.05it/s]\n"
          ]
        },
        {
          "output_type": "stream",
          "name": "stdout",
          "text": [
            "Time for epoch: 748.36\n"
          ]
        },
        {
          "output_type": "stream",
          "name": "stderr",
          "text": [
            "Epoch dev: 2: 100%|██████████| 157/157 [00:40<00:00,  3.91it/s]\n"
          ]
        },
        {
          "output_type": "stream",
          "name": "stdout",
          "text": [
            "epoch: 2, train_acc=0.94639 dev_acc=0.94225 train_f1=0.92495 dev_f1=0.92075 loss: 67.27609\n"
          ]
        },
        {
          "output_type": "stream",
          "name": "stderr",
          "text": [
            "Epoch train: 3: 100%|██████████| 782/782 [12:28<00:00,  1.04it/s]\n"
          ]
        },
        {
          "output_type": "stream",
          "name": "stdout",
          "text": [
            "Time for epoch: 748.94\n"
          ]
        },
        {
          "output_type": "stream",
          "name": "stderr",
          "text": [
            "Epoch dev: 3: 100%|██████████| 157/157 [00:40<00:00,  3.89it/s]\n"
          ]
        },
        {
          "output_type": "stream",
          "name": "stdout",
          "text": [
            "epoch: 3, train_acc=0.94728 dev_acc=0.93980 train_f1=0.92593 dev_f1=0.91481 loss: 64.29540\n",
            "Best epoch was: 1\n",
            "EVALUATING\n"
          ]
        },
        {
          "output_type": "stream",
          "name": "stderr",
          "text": [
            "Test: 100%|██████████| 79/79 [00:23<00:00,  3.42it/s]"
          ]
        },
        {
          "output_type": "stream",
          "name": "stdout",
          "text": [
            "test_acc=0.93920 test_f1=0.92235\n"
          ]
        },
        {
          "output_type": "stream",
          "name": "stderr",
          "text": [
            "\n"
          ]
        }
      ],
      "source": [
        "from transformers import DistilBertForSequenceClassification, AdamW\n",
        "from torch.utils.data import DataLoader\n",
        "from transformers import DistilBertForSequenceClassification, Trainer, TrainingArguments, AdamW\n",
        "import torch\n",
        "from torch.utils.data import Dataset, DataLoader\n",
        "from transformers import DistilBertTokenizerFast\n",
        "from sklearn.model_selection import train_test_split\n",
        "from pathlib import Path\n",
        "import numpy as np\n",
        "import time\n",
        "from sklearn.metrics import f1_score\n",
        "from collections import Counter\n",
        "import copy\n",
        "from tqdm import tqdm\n",
        "\n",
        "\n",
        "X_train_filename = \"./drive/MyDrive/CSCI467Data/X_train.tsv\"\n",
        "X_dev_filename = \"./drive/MyDrive/CSCI467Data/X_dev.tsv\"\n",
        "X_test_filename = \"./drive/MyDrive/CSCI467Data/X_test.tsv\"\n",
        "y_train_filename = \"./drive/MyDrive/CSCI467Data/y_train.npy\"\n",
        "y_dev_filename = \"./drive/MyDrive/CSCI467Data/y_dev.npy\"\n",
        "y_test_filename = \"./drive/MyDrive/CSCI467Data/y_test.npy\"\n",
        "\n",
        "save_path =  \"./drive/MyDrive/CSCI467Data\"\n",
        "\n",
        "\n",
        "\n",
        "class EmotionDataset(Dataset):\n",
        "    def __init__(self, X, y, transform=None, target_transform=None):\n",
        "        self.encodings = X\n",
        "        self.labels = y\n",
        "\n",
        "\n",
        "    def __len__(self):\n",
        "        return len(self.labels)\n",
        "\n",
        "    def __getitem__(self, idx):\n",
        "        item = {key: torch.tensor(val[idx]) for key, val in self.encodings.items()}\n",
        "        item['labels'] = torch.tensor(self.labels[idx])\n",
        "        return item\n",
        "\n",
        "\n",
        "\n",
        "def read_file(filename):\n",
        "    data=[]\n",
        "\n",
        "    with open(filename) as file:\n",
        "        for line in file:\n",
        "            words = line.strip().split('\\t')\n",
        "            data.append(words)\n",
        "    return data\n",
        "\n",
        "\n",
        "def get_class_weights(y,a):\n",
        "    c = Counter(y)\n",
        "    denom = sum([c[w]**a for w in range(6)])\n",
        "    class_weights = [((c[w]**a)/denom) for w in range(6)]\n",
        "    return class_weights\n",
        "\n",
        "\n",
        "#load data\n",
        "X_train = read_file(X_train_filename)\n",
        "X_dev = read_file(X_dev_filename)\n",
        "X_test = read_file(X_test_filename)\n",
        "y_train = np.load(y_train_filename)\n",
        "y_dev = np.load(y_dev_filename)\n",
        "y_test = np.load(y_test_filename)\n",
        "\n",
        "\n",
        "class_weights = get_class_weights(y_train, a=0.25)\n",
        "\n",
        "\n",
        "\n",
        "train_texts = [\" \".join(words) for words in X_train[:100000]]\n",
        "dev_texts = [\" \".join(words) for words in X_dev[:20000]]\n",
        "test_texts = [\" \".join(words) for words in X_test[:10000]]\n",
        "train_labels = y_train.tolist()[:100000]\n",
        "dev_labels = y_dev.tolist()[:20000]\n",
        "test_labels = y_test.tolist()[:10000]\n",
        "\n",
        "\n",
        "tokenizer = DistilBertTokenizerFast.from_pretrained('distilbert-base-uncased')\n",
        "\n",
        "\n",
        "train_encodings = tokenizer(train_texts, truncation=True, padding=True)\n",
        "dev_encodings = tokenizer(dev_texts, truncation=True, padding=True)\n",
        "test_encodings = tokenizer(test_texts, truncation=True, padding=True)\n",
        "\n",
        "\n",
        "train_set = EmotionDataset(train_encodings, train_labels)\n",
        "dev_set = EmotionDataset(dev_encodings, dev_labels)\n",
        "test_set = EmotionDataset(test_encodings, test_labels)\n",
        "\n",
        "\n",
        "\n",
        "\n",
        "print('Done with encodings')\n",
        "\n",
        "device = torch.device('cuda') if torch.cuda.is_available() else torch.device('cpu')\n",
        "\n",
        "model = DistilBertForSequenceClassification.from_pretrained('distilbert-base-uncased', num_labels=6)\n",
        "# model = DistilBertForSequenceClassification.from_pretrained(save_path)\n",
        "model.to(device)\n",
        "model.train()\n",
        "\n",
        "train_loader = DataLoader(train_set, batch_size=128, shuffle=True)\n",
        "dev_loader = DataLoader(dev_set, batch_size=128, shuffle=True)\n",
        "\n",
        "optim = AdamW(model.parameters(), lr=5e-5)\n",
        "best_dev_f1 = -1\n",
        "best_checkpoint_f1 = None\n",
        "best_epoch_f1 = -1\n",
        "\n",
        "for epoch in range(4):\n",
        "    epoch_loss = 0\n",
        "    train_num_correct = 0\n",
        "\n",
        "    all_labels=[]\n",
        "    all_preds=[]\n",
        "    start_time = time.time()\n",
        "    for batch in tqdm(train_loader, desc=f\"Epoch train: {epoch}\"):\n",
        "\n",
        "\n",
        "        optim.zero_grad()\n",
        "\n",
        "        input_ids = batch['input_ids'].to(device)\n",
        "        attention_mask = batch['attention_mask'].to(device)\n",
        "        labels = batch['labels'].to(device)\n",
        "        outputs = model(input_ids, attention_mask=attention_mask, labels=labels)\n",
        "        logits = outputs[1] #Bxnum_labels\n",
        "\n",
        "        loss = outputs[0]\n",
        "        loss.backward()\n",
        "        optim.step()\n",
        "\n",
        "        preds = torch.argmax(logits, dim=1)\n",
        "        train_num_correct += torch.sum(preds == labels).item()\n",
        "\n",
        "        epoch_loss += loss\n",
        "\n",
        "        all_labels += labels.tolist()\n",
        "        all_preds += preds.tolist()\n",
        "\n",
        "    train_f1s = f1_score(all_labels, all_preds, average=None)\n",
        "    train_f1 = np.dot(class_weights, train_f1s)\n",
        "\n",
        "    end_time = time.time()\n",
        "    # print(f'Time for epoch: {end_time - start_time:.2f}')\n",
        "\n",
        "    model.eval()\n",
        "    all_labels=[]\n",
        "    all_preds=[]\n",
        "    dev_num_correct = 0\n",
        "    with torch.no_grad():  # Don't allocate memory for storing gradients, more efficient when not training\n",
        "        for batch in tqdm(dev_loader, desc=f'Epoch dev: {epoch}'):\n",
        "\n",
        "            input_ids = batch['input_ids'].to(device)\n",
        "            attention_mask = batch['attention_mask'].to(device)\n",
        "            labels = batch['labels'].to(device)\n",
        "            outputs = model(input_ids, attention_mask=attention_mask, labels=labels)\n",
        "            logits = outputs[1] #Bxnum_labels\n",
        "\n",
        "\n",
        "            preds = torch.argmax(logits, dim=1)\n",
        "            dev_num_correct += torch.sum(preds == labels).item()\n",
        "\n",
        "            all_labels += labels.tolist()\n",
        "            all_preds += preds.tolist()\n",
        "\n",
        "        dev_f1s = f1_score(all_labels, all_preds, average=None)\n",
        "        dev_f1 = np.dot(class_weights, dev_f1s)\n",
        "\n",
        "        dev_acc = dev_num_correct / len(dev_set)\n",
        "        if dev_f1 > best_dev_f1:\n",
        "          best_dev_f1 = dev_f1\n",
        "          best_checkpoint_f1 = copy.deepcopy(model.state_dict())\n",
        "          best_epoch_f1 = epoch\n",
        "\n",
        "\n",
        "\n",
        "\n",
        "\n",
        "    train_acc = train_num_correct / len(train_set)\n",
        "    print(f'epoch: {epoch}, train_acc={train_acc:.5f} dev_acc={dev_acc:.5f} train_f1={train_f1:.5f} dev_f1={dev_f1:.5f} loss: {epoch_loss:.5f}')\n",
        "\n",
        "\n",
        "print(f'Best epoch was: {best_epoch_f1}')\n",
        "model.load_state_dict(best_checkpoint_f1)\n",
        "model.save_pretrained(save_path)\n",
        "\n",
        "# model = DistilBertForSequenceClassification.from_pretrained(save_path).to(device)\n",
        "print('\\nEvaluating on Test set\\n')\n",
        "model.eval()\n",
        "test_loader = DataLoader(test_set, batch_size=128, shuffle=True)\n",
        "test_num_correct=0\n",
        "all_labels=[]\n",
        "all_preds=[]\n",
        "with torch.no_grad():\n",
        "  for batch in tqdm(test_loader, desc=f\"Test\"):\n",
        "\n",
        "\n",
        "      input_ids = batch['input_ids'].to(device)\n",
        "      attention_mask = batch['attention_mask'].to(device)\n",
        "      labels = batch['labels'].to(device)\n",
        "      outputs = model(input_ids, attention_mask=attention_mask, labels=labels)\n",
        "      logits = outputs[1] #Bxnum_labels\n",
        "\n",
        "\n",
        "      preds = torch.argmax(logits, dim=1)\n",
        "      test_num_correct += torch.sum(preds == labels).item()\n",
        "\n",
        "      all_labels += labels.tolist()\n",
        "      all_preds += preds.tolist()\n",
        "test_f1s = f1_score(all_labels, all_preds, average=None)\n",
        "test_f1 = np.dot(class_weights, test_f1s)\n",
        "\n",
        "test_acc = test_num_correct / len(test_set)\n",
        "print(f'test_acc={test_acc:.5f} test_f1={test_f1:.5f}')\n",
        "\n"
      ]
    }
  ]
}